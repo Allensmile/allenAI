{
 "cells": [
  {
   "cell_type": "code",
   "execution_count": 1,
   "metadata": {
    "collapsed": true
   },
   "outputs": [],
   "source": [
    "import os, re, sys, csv, lucene"
   ]
  },
  {
   "cell_type": "code",
   "execution_count": 11,
   "metadata": {
    "collapsed": true
   },
   "outputs": [],
   "source": [
    "from java.io import File\n",
    "from org.apache.lucene.analysis.miscellaneous import LimitTokenCountAnalyzer\n",
    "from org.apache.lucene.analysis.standard import StandardAnalyzer\n",
    "from org.apache.lucene.index import IndexWriter, IndexWriterConfig\n",
    "from org.apache.lucene.document import Document, Field, FieldType, StringField, TextField\n",
    "from org.apache.lucene.store import SimpleFSDirectory\n",
    "from org.apache.lucene.util import Version"
   ]
  },
  {
   "cell_type": "code",
   "execution_count": 3,
   "metadata": {
    "collapsed": false
   },
   "outputs": [
    {
     "data": {
      "text/plain": [
       "<jcc.JCCEnv at 0x7f2f7789b9d8>"
      ]
     },
     "execution_count": 3,
     "metadata": {},
     "output_type": "execute_result"
    }
   ],
   "source": [
    "lucene.initVM(vmargs=['-Djava.awt.headless=true'])"
   ]
  },
  {
   "cell_type": "code",
   "execution_count": 4,
   "metadata": {
    "collapsed": true
   },
   "outputs": [],
   "source": [
    "directory = SimpleFSDirectory(File(\"term_index\"))\n",
    "analyzer = StandardAnalyzer(Version.LUCENE_CURRENT)\n",
    "#analyzer = LimitTokenCountAnalyzer(analyzer, 10000)\n",
    "config = IndexWriterConfig(Version.LUCENE_CURRENT, analyzer)\n",
    "writer = IndexWriter(directory, config)"
   ]
  },
  {
   "cell_type": "code",
   "execution_count": 21,
   "metadata": {
    "collapsed": false
   },
   "outputs": [
    {
     "name": "stdout",
     "output_type": "stream",
     "text": [
      "stored,indexed,tokenized,termVector,termVectorPosition\n"
     ]
    }
   ],
   "source": [
    "ANSWER_TYPE = FieldType(TextField.TYPE_STORED)\n",
    "ANSWER_TYPE.setIndexed(True);\n",
    "ANSWER_TYPE.setTokenized(True);\n",
    "ANSWER_TYPE.setStored(True);\n",
    "ANSWER_TYPE.setStoreTermVectors(True);\n",
    "ANSWER_TYPE.setStoreTermVectorPositions(True);\n",
    "ANSWER_TYPE.freeze();\n",
    "print ANSWER_TYPE"
   ]
  },
  {
   "cell_type": "code",
   "execution_count": 22,
   "metadata": {
    "collapsed": true
   },
   "outputs": [],
   "source": [
    "def index_document(csv_file, writer):\n",
    "    with open(csv_file) as f:\n",
    "        reader = csv.reader(f, delimiter=\"\\t\", strict=True, quoting=csv.QUOTE_NONE)\n",
    "        for line in reader:\n",
    "            doc = Document()\n",
    "            doc.add(Field(\"id\", line[0], StringField.TYPE_STORED))\n",
    "            doc.add(Field(\"question\", line[1], TextField.TYPE_STORED))\n",
    "            doc.add(Field(\"answer\", line[2], ANSWER_TYPE))\n",
    "            doc.add(Field(\"filename\", csv_file, StringField.TYPE_STORED))\n",
    "            writer.addDocument(doc)"
   ]
  },
  {
   "cell_type": "code",
   "execution_count": 23,
   "metadata": {
    "collapsed": false
   },
   "outputs": [],
   "source": [
    "index_document(\"/storage/hpc_tanel/allenAI/studystack_qa_cleaner_no_qm.txt\",writer)"
   ]
  },
  {
   "cell_type": "code",
   "execution_count": 24,
   "metadata": {
    "collapsed": true
   },
   "outputs": [],
   "source": [
    "csv.field_size_limit(sys.maxsize)\n",
    "index_document(\"/storage/hpc_tanel/allenAI/flashcardmachine_qa_cleaner_no_qm.txt\", writer)"
   ]
  },
  {
   "cell_type": "code",
   "execution_count": 25,
   "metadata": {
    "collapsed": true
   },
   "outputs": [],
   "source": [
    "index_document(\"/storage/hpc_tanel/allenAI/quizlet_qa_0_cleaner_no_qm.txt\", writer)"
   ]
  },
  {
   "cell_type": "code",
   "execution_count": 26,
   "metadata": {
    "collapsed": true
   },
   "outputs": [],
   "source": [
    "index_document(\"/storage/hpc_tanel/allenAI/quizlet_qa_1_cleaner_no_qm.txt\", writer)"
   ]
  },
  {
   "cell_type": "code",
   "execution_count": 27,
   "metadata": {
    "collapsed": true
   },
   "outputs": [],
   "source": [
    "index_document(\"/storage/hpc_tanel/allenAI/quizlet_qa_2_cleaner_no_qm.txt\", writer)"
   ]
  },
  {
   "cell_type": "code",
   "execution_count": 28,
   "metadata": {
    "collapsed": true
   },
   "outputs": [],
   "source": [
    "index_document(\"/storage/hpc_tanel/allenAI/quizlet_qa_3_cleaner_no_qm.txt\", writer)"
   ]
  },
  {
   "cell_type": "code",
   "execution_count": 29,
   "metadata": {
    "collapsed": true
   },
   "outputs": [],
   "source": [
    "index_document(\"/storage/hpc_tanel/allenAI/quizlet_qa_4_cleaner_no_qm.txt\", writer)"
   ]
  },
  {
   "cell_type": "code",
   "execution_count": 30,
   "metadata": {
    "collapsed": true
   },
   "outputs": [],
   "source": [
    "writer.commit()\n",
    "writer.close()"
   ]
  },
  {
   "cell_type": "code",
   "execution_count": null,
   "metadata": {
    "collapsed": true
   },
   "outputs": [],
   "source": []
  }
 ],
 "metadata": {
  "kernelspec": {
   "display_name": "Python 2",
   "language": "python",
   "name": "python2"
  },
  "language_info": {
   "codemirror_mode": {
    "name": "ipython",
    "version": 2
   },
   "file_extension": ".py",
   "mimetype": "text/x-python",
   "name": "python",
   "nbconvert_exporter": "python",
   "pygments_lexer": "ipython2",
   "version": "2.7.8"
  }
 },
 "nbformat": 4,
 "nbformat_minor": 0
}
