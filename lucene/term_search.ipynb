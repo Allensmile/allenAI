{
 "cells": [
  {
   "cell_type": "code",
   "execution_count": 1,
   "metadata": {
    "collapsed": true
   },
   "outputs": [],
   "source": [
    "import sys, os, csv, lucene\n",
    "import numpy as np"
   ]
  },
  {
   "cell_type": "code",
   "execution_count": 2,
   "metadata": {
    "collapsed": true
   },
   "outputs": [],
   "source": [
    "from java.io import File\n",
    "from org.apache.lucene.analysis.standard import StandardAnalyzer\n",
    "from org.apache.lucene.index import DirectoryReader, IndexWriter, IndexWriterConfig\n",
    "from org.apache.lucene.queryparser.classic import QueryParser\n",
    "from org.apache.lucene.search import IndexSearcher\n",
    "from org.apache.lucene.document import Document, Field, FieldType, StringField, TextField\n",
    "from org.apache.lucene.store import SimpleFSDirectory, RAMDirectory\n",
    "from org.apache.lucene.util import Version"
   ]
  },
  {
   "cell_type": "code",
   "execution_count": 3,
   "metadata": {
    "collapsed": false
   },
   "outputs": [
    {
     "data": {
      "text/plain": [
       "<jcc.JCCEnv at 0x7f0027092900>"
      ]
     },
     "execution_count": 3,
     "metadata": {},
     "output_type": "execute_result"
    }
   ],
   "source": [
    "lucene.initVM(vmargs=['-Djava.awt.headless=true'])"
   ]
  },
  {
   "cell_type": "code",
   "execution_count": 4,
   "metadata": {
    "collapsed": true
   },
   "outputs": [],
   "source": [
    "fsDir = SimpleFSDirectory(File(\"term_index\"))\n",
    "reader = DirectoryReader.open(fsDir)\n",
    "searcher = IndexSearcher(reader)"
   ]
  },
  {
   "cell_type": "code",
   "execution_count": 5,
   "metadata": {
    "collapsed": true
   },
   "outputs": [],
   "source": [
    "analyzer = StandardAnalyzer(Version.LUCENE_CURRENT)\n",
    "parser = QueryParser(Version.LUCENE_CURRENT, \"question\", analyzer)"
   ]
  },
  {
   "cell_type": "code",
   "execution_count": 6,
   "metadata": {
    "collapsed": true
   },
   "outputs": [],
   "source": [
    "query = parser.parse('When athletes begin to exercise, their heart rates and respiration rates increase.  At what level of organization does the human body coordinate these functions?')"
   ]
  },
  {
   "cell_type": "code",
   "execution_count": 7,
   "metadata": {
    "collapsed": false
   },
   "outputs": [
    {
     "name": "stdout",
     "output_type": "stream",
     "text": [
      "6.00224876404\n"
     ]
    }
   ],
   "source": [
    "result = searcher.search(query, 10)\n",
    "print result.getMaxScore()\n",
    "scoreDocs = result.scoreDocs"
   ]
  },
  {
   "cell_type": "code",
   "execution_count": 8,
   "metadata": {
    "collapsed": false
   },
   "outputs": [
    {
     "name": "stdout",
     "output_type": "stream",
     "text": [
      "234203\n"
     ]
    }
   ],
   "source": [
    "doc = scoreDocs[0].doc\n",
    "print doc"
   ]
  },
  {
   "cell_type": "code",
   "execution_count": 9,
   "metadata": {
    "collapsed": false
   },
   "outputs": [
    {
     "name": "stdout",
     "output_type": "stream",
     "text": [
      "org.apache.lucene.codecs.compressing.CompressingTermVectorsReader$TVTerms@30432a9e\n"
     ]
    }
   ],
   "source": [
    "answer_vector = reader.getTermVector(doc, \"answer\")\n",
    "print answer_vector"
   ]
  },
  {
   "cell_type": "code",
   "execution_count": 10,
   "metadata": {
    "collapsed": false
   },
   "outputs": [
    {
     "name": "stdout",
     "output_type": "stream",
     "text": [
      "0.0281300246716\n",
      "0.0281300246716\n",
      "0.271222114563\n",
      "0.0281300246716\n"
     ]
    }
   ],
   "source": [
    "def score_answer(answer, answerA):\n",
    "    directory = RAMDirectory()\n",
    "    analyzer = StandardAnalyzer(Version.LUCENE_CURRENT)\n",
    "    #analyzer = LimitTokenCountAnalyzer(analyzer, 10000)\n",
    "    config = IndexWriterConfig(Version.LUCENE_CURRENT, analyzer)\n",
    "    writer = IndexWriter(directory, config)\n",
    "\n",
    "    doc = Document()\n",
    "    doc.add(Field(\"answer\", answer, TextField.TYPE_STORED))\n",
    "    writer.addDocument(doc)\n",
    "\n",
    "    writer.commit()\n",
    "    writer.close()\n",
    "    \n",
    "    reader = DirectoryReader.open(directory)\n",
    "    searcher = IndexSearcher(reader)\n",
    "\n",
    "    analyzer = StandardAnalyzer(Version.LUCENE_CURRENT)\n",
    "    parser = QueryParser(Version.LUCENE_CURRENT, \"answer\", analyzer)\n",
    "    query = parser.parse(QueryParser.escape(answerA))\n",
    "    result = searcher.search(query, 1)\n",
    "\n",
    "    scoreDocs = result.scoreDocs\n",
    "    #for scoreDoc in scoreDocs:\n",
    "    #    doc = searcher.doc(scoreDoc.doc)\n",
    "    #    print answerA, doc.get(\"answer\"), scoreDoc.score\n",
    "\n",
    "    return result.getMaxScore() if len(scoreDocs) > 0 else 0\n",
    "\n",
    "print score_answer(\"at the tissue level\", \"at the system level\")\n",
    "print score_answer(\"at the organ level\", \"at the system level\")\n",
    "print score_answer(\"at the system level\", \"at the system level\")\n",
    "print score_answer(\"at the cellular level\", \"at the system level\")"
   ]
  },
  {
   "cell_type": "code",
   "execution_count": null,
   "metadata": {
    "collapsed": false,
    "scrolled": false
   },
   "outputs": [],
   "source": [
    "correct = 0\n",
    "results = []\n",
    "with open(\"../data/training_set.tsv\") as f:\n",
    "    csv_reader = csv.reader(f, delimiter=\"\\t\", strict=True, quoting=csv.QUOTE_NONE)\n",
    "    header = next(csv_reader)  # ignore header\n",
    "    is_train_set = (len(header) == 7)\n",
    "    i = 0\n",
    "    for id, question, right, answerA, answerB, answerC, answerD in list(csv_reader):\n",
    "        query = parser.parse(QueryParser.escape(question))\n",
    "        result = searcher.search(query, 500)\n",
    "\n",
    "        #print question, answerA, answerB, answerC, answerD\n",
    "        \n",
    "        scoreA = 0\n",
    "        scoreB = 0\n",
    "        scoreC = 0\n",
    "        scoreD = 0\n",
    "        scoreDocs = result.scoreDocs\n",
    "        for scoreDoc in scoreDocs:\n",
    "            doc = searcher.doc(scoreDoc.doc)\n",
    "            question = doc.get(\"question\")\n",
    "            answer = doc.get(\"answer\")\n",
    "            docscore = scoreDoc.score\n",
    "            #print question, answer, docscore\n",
    "\n",
    "            scoreA += docscore * score_answer(answer, answerA)\n",
    "            scoreB += docscore * score_answer(answer, answerB)\n",
    "            scoreC += docscore * score_answer(answer, answerC)\n",
    "            scoreD += docscore * score_answer(answer, answerD)\n",
    "        \n",
    "        scores = [scoreA, scoreB, scoreC, scoreD]\n",
    "        best = np.argmax(scores)\n",
    "        best = chr(ord('A') + best)\n",
    "        results.append([id, best] + scores)\n",
    "\n",
    "        #print scoreA, scoreB, scoreC, scoreD\n",
    "        #print right, best\n",
    "        i += 1\n",
    "        if i % 100 == 0:\n",
    "            print i\n",
    "\n",
    "        if best == right:\n",
    "            correct += 1\n",
    "\n",
    "accuracy = float(correct) / len(results)\n",
    "print \"Correct: %d Total: %d Accuracy: %f\" % (correct, len(results), accuracy)"
   ]
  },
  {
   "cell_type": "code",
   "execution_count": 141,
   "metadata": {
    "collapsed": true
   },
   "outputs": [],
   "source": [
    "with open(\"lucene500_predictions_training.csv\", \"w\") as f:\n",
    "    writer = csv.writer(f, delimiter=',', quoting=csv.QUOTE_MINIMAL)\n",
    "    for i in xrange(len(results)):\n",
    "        writer.writerow(results[i])"
   ]
  },
  {
   "cell_type": "code",
   "execution_count": null,
   "metadata": {
    "collapsed": false
   },
   "outputs": [
    {
     "name": "stdout",
     "output_type": "stream",
     "text": [
      "100\n",
      "200\n",
      "300\n",
      "400\n",
      "500\n",
      "600\n",
      "2000\n",
      "2100\n",
      "4900\n",
      "5000\n",
      "5100\n",
      "5200\n",
      "5300\n",
      "5400\n",
      "5500\n",
      "5600\n",
      "5700\n",
      "5800\n",
      "5900\n",
      "6000\n",
      "6100\n",
      "6200\n",
      "6300\n",
      "6400\n",
      "6500\n",
      "6600\n",
      "6700\n",
      "6800\n",
      "6900\n",
      "7000\n",
      "7100\n",
      "7200\n",
      "7300\n",
      "7400\n",
      "7500\n",
      "7600\n",
      "7700\n",
      "7800\n",
      "7900\n",
      "8000\n",
      "8100\n",
      "8200\n",
      "8300\n",
      "18300"
     ]
    }
   ],
   "source": [
    "correct = 0\n",
    "results = []\n",
    "with open(\"../data/test_set.tsv\") as f:\n",
    "    csv_reader = csv.reader(f, delimiter=\"\\t\", strict=True, quoting=csv.QUOTE_NONE)\n",
    "    header = next(csv_reader)  # ignore header\n",
    "    is_train_set = (len(header) == 7)\n",
    "    i = 0\n",
    "    for id, question, answerA, answerB, answerC, answerD in list(csv_reader):\n",
    "        query = parser.parse(QueryParser.escape(question))\n",
    "        result = searcher.search(query, 1000)\n",
    "\n",
    "        #print question, answerA, answerB, answerC, answerD\n",
    "        \n",
    "        scoreA = 0\n",
    "        scoreB = 0\n",
    "        scoreC = 0\n",
    "        scoreD = 0\n",
    "        scoreDocs = result.scoreDocs\n",
    "        for scoreDoc in scoreDocs:\n",
    "            doc = searcher.doc(scoreDoc.doc)\n",
    "            question = doc.get(\"question\")\n",
    "            answer = doc.get(\"answer\")\n",
    "            docscore = scoreDoc.score\n",
    "            #print question, answer, docscore\n",
    "\n",
    "            scoreA += docscore * score_answer(answer, answerA)\n",
    "            scoreB += docscore * score_answer(answer, answerB)\n",
    "            scoreC += docscore * score_answer(answer, answerC)\n",
    "            scoreD += docscore * score_answer(answer, answerD)\n",
    "        \n",
    "        scores = [scoreA, scoreB, scoreC, scoreD]\n",
    "        best = np.argmax(scores)\n",
    "        best = chr(ord('A') + best)\n",
    "        results.append([id, best] + scores)\n",
    "\n",
    "        #print scoreA, scoreB, scoreC, scoreD\n",
    "        #print right, best\n",
    "        i += 1\n",
    "        if i % 100 == 0:\n",
    "            print i\n"
   ]
  },
  {
   "cell_type": "code",
   "execution_count": null,
   "metadata": {
    "collapsed": true
   },
   "outputs": [],
   "source": [
    "with open(\"lucene1000_predictions_test.csv\", \"w\") as f:\n",
    "    writer = csv.writer(f, delimiter=',', quoting=csv.QUOTE_MINIMAL)\n",
    "    for i in xrange(len(results)):\n",
    "        writer.writerow(results[i])"
   ]
  },
  {
   "cell_type": "code",
   "execution_count": null,
   "metadata": {
    "collapsed": true
   },
   "outputs": [],
   "source": [
    "print \"ok\""
   ]
  },
  {
   "cell_type": "code",
   "execution_count": null,
   "metadata": {
    "collapsed": true
   },
   "outputs": [],
   "source": []
  }
 ],
 "metadata": {
  "kernelspec": {
   "display_name": "Python 2",
   "language": "python",
   "name": "python2"
  },
  "language_info": {
   "codemirror_mode": {
    "name": "ipython",
    "version": 2
   },
   "file_extension": ".py",
   "mimetype": "text/x-python",
   "name": "python",
   "nbconvert_exporter": "python",
   "pygments_lexer": "ipython2",
   "version": "2.7.8"
  }
 },
 "nbformat": 4,
 "nbformat_minor": 0
}
